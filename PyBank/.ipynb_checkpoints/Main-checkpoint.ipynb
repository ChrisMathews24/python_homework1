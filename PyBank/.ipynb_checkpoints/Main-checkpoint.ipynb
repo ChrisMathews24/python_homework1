{
 "cells": [
  {
   "cell_type": "markdown",
   "metadata": {},
   "source": [
    "## Python-Homework"
   ]
  },
  {
   "cell_type": "code",
   "execution_count": 3,
   "metadata": {},
   "outputs": [],
   "source": [
    "# Here I am importing the pathlib and csv library\n",
    "\n",
    "import pathlib\n",
    "import csv"
   ]
  },
  {
   "cell_type": "code",
   "execution_count": 4,
   "metadata": {},
   "outputs": [],
   "source": [
    "from pathlib import Path"
   ]
  },
  {
   "cell_type": "code",
   "execution_count": 5,
   "metadata": {},
   "outputs": [],
   "source": [
    "# Here I have set file path\n",
    "\n",
    "csvpath = pathlib.Path(\"Resources/budget_data.csv\")"
   ]
  },
  {
   "cell_type": "code",
   "execution_count": 8,
   "metadata": {},
   "outputs": [
    {
     "name": "stdout",
     "output_type": "stream",
     "text": [
      "C:\\Users\\chris\\Documents\\python_homework1\\main\\PyBank\n"
     ]
    }
   ],
   "source": [
    "print(Path.cwd())"
   ]
  },
  {
   "cell_type": "code",
   "execution_count": 21,
   "metadata": {},
   "outputs": [],
   "source": [
    "# Here I have initialized variable to hold dates\n",
    "date = []\n",
    "line_num = 0"
   ]
  },
  {
   "cell_type": "code",
   "execution_count": 22,
   "metadata": {},
   "outputs": [],
   "source": [
    "# Here I have initialized variable to hold profit/loss amount\n",
    "pl_amount = []\n",
    "line_num = 1"
   ]
  },
  {
   "cell_type": "code",
   "execution_count": null,
   "metadata": {},
   "outputs": [],
   "source": []
  },
  {
   "cell_type": "code",
   "execution_count": 36,
   "metadata": {},
   "outputs": [
    {
     "name": "stdout",
     "output_type": "stream",
     "text": [
      "-2196167.0 \n",
      "\n",
      "1926159.0 \n",
      "\n",
      "-2315.1176470588234 \n",
      "\n",
      "86 \n",
      "\n",
      "38382578.0 \n",
      "\n"
     ]
    }
   ],
   "source": [
    "# Here I am opening the input path as a file object\n",
    "\n",
    "with open(csvpath, 'r') as csvfile:\n",
    "    csvreader = csv.reader(csvfile,delimiter=',')\n",
    "    header = next(csvreader)\n",
    "    line_num += 1\n",
    "    \n",
    "    # Here is am defining the list and its data\n",
    "    profit_list = [] \n",
    "    prev = next(csvreader)\n",
    "    \n",
    "    month = []\n",
    "    month.append(prev[0])\n",
    "   \n",
    "\n",
    "    # Here I am defining the total and profit calculations   \n",
    "    total = float(prev[1])\n",
    "    for row in csvreader:\n",
    "        total += float(row[1])\n",
    "        profit = float(row[1]) - float(prev[1])\n",
    "        prev = row\n",
    "        profit_list.append(profit)\n",
    "        month.append(row[0])\n",
    "        \n",
    "        \n",
    "    \n",
    "    print(min(profit_list),\"\\n\")\n",
    "    print(max(profit_list),\"\\n\")\n",
    "    print(sum(profit_list)/len(profit_list),\"\\n\")\n",
    "    print(len(profit_list)+1,\"\\n\")\n",
    "    print(total,\"\\n\")\n",
    "    \n",
    "    index =2\n",
    "    month[index]\n",
    "    \n",
    "    max_increase_value = max(month)\n",
    "    "
   ]
  },
  {
   "cell_type": "code",
   "execution_count": null,
   "metadata": {},
   "outputs": [],
   "source": [
    "#profit_list = int(row[1])\n",
    "        #pl_amount.append(profit_list)\n",
    "        #date_list = str(row[0])\n",
    "        #date.append(date_list)"
   ]
  }
 ],
 "metadata": {
  "kernelspec": {
   "display_name": "Python 3",
   "language": "python",
   "name": "python3"
  },
  "language_info": {
   "codemirror_mode": {
    "name": "ipython",
    "version": 3
   },
   "file_extension": ".py",
   "mimetype": "text/x-python",
   "name": "python",
   "nbconvert_exporter": "python",
   "pygments_lexer": "ipython3",
   "version": "3.7.9"
  }
 },
 "nbformat": 4,
 "nbformat_minor": 4
}
